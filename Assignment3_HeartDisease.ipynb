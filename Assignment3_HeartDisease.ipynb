{
 "cells": [
  {
   "cell_type": "code",
   "execution_count": 1,
   "metadata": {},
   "outputs": [],
   "source": [
    "import pandas as pd   \n",
    "import matplotlib.pyplot as plt\n",
    "import plotly.express as px\n",
    "import time\n",
    "import numpy as np\n",
    "import warnings\n",
    "\n",
    "\n",
    "from sklearn.pipeline import Pipeline\n",
    "from matplotlib import pyplot\n",
    "# the permutation based importance\n",
    "import seaborn as sns\n",
    "\n",
    "from numpy import mean\n",
    "import warnings\n",
    "warnings.filterwarnings(\"ignore\") "
   ]
  },
  {
   "cell_type": "code",
   "execution_count": 2,
   "metadata": {},
   "outputs": [
    {
     "data": {
      "text/plain": [
       "(319795, 18)"
      ]
     },
     "execution_count": 2,
     "metadata": {},
     "output_type": "execute_result"
    }
   ],
   "source": [
    "# Importing Dataset using Pandas.\n",
    "data = pd.read_csv(\"E:/heart_2020.csv\")\n",
    "data.shape  "
   ]
  },
  {
   "cell_type": "code",
   "execution_count": 4,
   "metadata": {},
   "outputs": [
    {
     "data": {
      "text/plain": [
       "(20000, 18)"
      ]
     },
     "execution_count": 4,
     "metadata": {},
     "output_type": "execute_result"
    }
   ],
   "source": [
    "data = data.sample(20000)\n",
    "data.shape"
   ]
  },
  {
   "cell_type": "code",
   "execution_count": 5,
   "metadata": {},
   "outputs": [
    {
     "data": {
      "text/html": [
       "<div>\n",
       "<style scoped>\n",
       "    .dataframe tbody tr th:only-of-type {\n",
       "        vertical-align: middle;\n",
       "    }\n",
       "\n",
       "    .dataframe tbody tr th {\n",
       "        vertical-align: top;\n",
       "    }\n",
       "\n",
       "    .dataframe thead th {\n",
       "        text-align: right;\n",
       "    }\n",
       "</style>\n",
       "<table border=\"1\" class=\"dataframe\">\n",
       "  <thead>\n",
       "    <tr style=\"text-align: right;\">\n",
       "      <th></th>\n",
       "      <th>HeartDisease</th>\n",
       "      <th>BMI</th>\n",
       "      <th>Smoking</th>\n",
       "      <th>AlcoholDrinking</th>\n",
       "      <th>Stroke</th>\n",
       "      <th>PhysicalHealth</th>\n",
       "      <th>MentalHealth</th>\n",
       "      <th>DiffWalking</th>\n",
       "      <th>Sex</th>\n",
       "      <th>AgeCategory</th>\n",
       "      <th>Race</th>\n",
       "      <th>Diabetic</th>\n",
       "      <th>PhysicalActivity</th>\n",
       "      <th>GenHealth</th>\n",
       "      <th>SleepTime</th>\n",
       "      <th>Asthma</th>\n",
       "      <th>KidneyDisease</th>\n",
       "      <th>SkinCancer</th>\n",
       "    </tr>\n",
       "  </thead>\n",
       "  <tbody>\n",
       "    <tr>\n",
       "      <th>248861</th>\n",
       "      <td>No</td>\n",
       "      <td>29.12</td>\n",
       "      <td>No</td>\n",
       "      <td>No</td>\n",
       "      <td>No</td>\n",
       "      <td>0.0</td>\n",
       "      <td>0.0</td>\n",
       "      <td>No</td>\n",
       "      <td>Female</td>\n",
       "      <td>50-54</td>\n",
       "      <td>Black</td>\n",
       "      <td>No, borderline diabetes</td>\n",
       "      <td>No</td>\n",
       "      <td>Very good</td>\n",
       "      <td>7.0</td>\n",
       "      <td>No</td>\n",
       "      <td>No</td>\n",
       "      <td>No</td>\n",
       "    </tr>\n",
       "    <tr>\n",
       "      <th>185728</th>\n",
       "      <td>No</td>\n",
       "      <td>21.63</td>\n",
       "      <td>No</td>\n",
       "      <td>No</td>\n",
       "      <td>No</td>\n",
       "      <td>0.0</td>\n",
       "      <td>5.0</td>\n",
       "      <td>No</td>\n",
       "      <td>Female</td>\n",
       "      <td>55-59</td>\n",
       "      <td>White</td>\n",
       "      <td>No</td>\n",
       "      <td>Yes</td>\n",
       "      <td>Excellent</td>\n",
       "      <td>9.0</td>\n",
       "      <td>No</td>\n",
       "      <td>No</td>\n",
       "      <td>No</td>\n",
       "    </tr>\n",
       "    <tr>\n",
       "      <th>260525</th>\n",
       "      <td>No</td>\n",
       "      <td>29.76</td>\n",
       "      <td>No</td>\n",
       "      <td>No</td>\n",
       "      <td>Yes</td>\n",
       "      <td>0.0</td>\n",
       "      <td>0.0</td>\n",
       "      <td>No</td>\n",
       "      <td>Female</td>\n",
       "      <td>80 or older</td>\n",
       "      <td>Black</td>\n",
       "      <td>No</td>\n",
       "      <td>No</td>\n",
       "      <td>Good</td>\n",
       "      <td>8.0</td>\n",
       "      <td>No</td>\n",
       "      <td>No</td>\n",
       "      <td>No</td>\n",
       "    </tr>\n",
       "    <tr>\n",
       "      <th>114289</th>\n",
       "      <td>No</td>\n",
       "      <td>28.13</td>\n",
       "      <td>No</td>\n",
       "      <td>No</td>\n",
       "      <td>No</td>\n",
       "      <td>0.0</td>\n",
       "      <td>0.0</td>\n",
       "      <td>No</td>\n",
       "      <td>Male</td>\n",
       "      <td>55-59</td>\n",
       "      <td>White</td>\n",
       "      <td>No</td>\n",
       "      <td>Yes</td>\n",
       "      <td>Excellent</td>\n",
       "      <td>7.0</td>\n",
       "      <td>No</td>\n",
       "      <td>No</td>\n",
       "      <td>No</td>\n",
       "    </tr>\n",
       "    <tr>\n",
       "      <th>63071</th>\n",
       "      <td>No</td>\n",
       "      <td>22.81</td>\n",
       "      <td>No</td>\n",
       "      <td>No</td>\n",
       "      <td>No</td>\n",
       "      <td>2.0</td>\n",
       "      <td>0.0</td>\n",
       "      <td>No</td>\n",
       "      <td>Male</td>\n",
       "      <td>18-24</td>\n",
       "      <td>Asian</td>\n",
       "      <td>No</td>\n",
       "      <td>Yes</td>\n",
       "      <td>Excellent</td>\n",
       "      <td>8.0</td>\n",
       "      <td>No</td>\n",
       "      <td>No</td>\n",
       "      <td>No</td>\n",
       "    </tr>\n",
       "  </tbody>\n",
       "</table>\n",
       "</div>"
      ],
      "text/plain": [
       "       HeartDisease    BMI Smoking AlcoholDrinking Stroke  PhysicalHealth  \\\n",
       "248861           No  29.12      No              No     No             0.0   \n",
       "185728           No  21.63      No              No     No             0.0   \n",
       "260525           No  29.76      No              No    Yes             0.0   \n",
       "114289           No  28.13      No              No     No             0.0   \n",
       "63071            No  22.81      No              No     No             2.0   \n",
       "\n",
       "        MentalHealth DiffWalking     Sex  AgeCategory   Race  \\\n",
       "248861           0.0          No  Female        50-54  Black   \n",
       "185728           5.0          No  Female        55-59  White   \n",
       "260525           0.0          No  Female  80 or older  Black   \n",
       "114289           0.0          No    Male        55-59  White   \n",
       "63071            0.0          No    Male        18-24  Asian   \n",
       "\n",
       "                       Diabetic PhysicalActivity  GenHealth  SleepTime Asthma  \\\n",
       "248861  No, borderline diabetes               No  Very good        7.0     No   \n",
       "185728                       No              Yes  Excellent        9.0     No   \n",
       "260525                       No               No       Good        8.0     No   \n",
       "114289                       No              Yes  Excellent        7.0     No   \n",
       "63071                        No              Yes  Excellent        8.0     No   \n",
       "\n",
       "       KidneyDisease SkinCancer  \n",
       "248861            No         No  \n",
       "185728            No         No  \n",
       "260525            No         No  \n",
       "114289            No         No  \n",
       "63071             No         No  "
      ]
     },
     "execution_count": 5,
     "metadata": {},
     "output_type": "execute_result"
    }
   ],
   "source": [
    "data.head(5)"
   ]
  },
  {
   "cell_type": "code",
   "execution_count": 6,
   "metadata": {},
   "outputs": [
    {
     "data": {
      "text/plain": [
       "Index(['HeartDisease', 'BMI', 'Smoking', 'AlcoholDrinking', 'Stroke',\n",
       "       'PhysicalHealth', 'MentalHealth', 'DiffWalking', 'Sex', 'AgeCategory',\n",
       "       'Race', 'Diabetic', 'PhysicalActivity', 'GenHealth', 'SleepTime',\n",
       "       'Asthma', 'KidneyDisease', 'SkinCancer'],\n",
       "      dtype='object')"
      ]
     },
     "execution_count": 6,
     "metadata": {},
     "output_type": "execute_result"
    }
   ],
   "source": [
    "data.columns"
   ]
  },
  {
   "cell_type": "code",
   "execution_count": 7,
   "metadata": {},
   "outputs": [
    {
     "name": "stdout",
     "output_type": "stream",
     "text": [
      "<class 'pandas.core.frame.DataFrame'>\n",
      "Int64Index: 20000 entries, 248861 to 96740\n",
      "Data columns (total 18 columns):\n",
      " #   Column            Non-Null Count  Dtype  \n",
      "---  ------            --------------  -----  \n",
      " 0   HeartDisease      20000 non-null  object \n",
      " 1   BMI               20000 non-null  float64\n",
      " 2   Smoking           20000 non-null  object \n",
      " 3   AlcoholDrinking   20000 non-null  object \n",
      " 4   Stroke            20000 non-null  object \n",
      " 5   PhysicalHealth    20000 non-null  float64\n",
      " 6   MentalHealth      20000 non-null  float64\n",
      " 7   DiffWalking       20000 non-null  object \n",
      " 8   Sex               20000 non-null  object \n",
      " 9   AgeCategory       20000 non-null  object \n",
      " 10  Race              20000 non-null  object \n",
      " 11  Diabetic          20000 non-null  object \n",
      " 12  PhysicalActivity  20000 non-null  object \n",
      " 13  GenHealth         20000 non-null  object \n",
      " 14  SleepTime         20000 non-null  float64\n",
      " 15  Asthma            20000 non-null  object \n",
      " 16  KidneyDisease     20000 non-null  object \n",
      " 17  SkinCancer        20000 non-null  object \n",
      "dtypes: float64(4), object(14)\n",
      "memory usage: 2.9+ MB\n"
     ]
    }
   ],
   "source": [
    "data.info()"
   ]
  },
  {
   "cell_type": "code",
   "execution_count": 9,
   "metadata": {},
   "outputs": [
    {
     "data": {
      "text/plain": [
       "array(['No', 'Yes'], dtype=object)"
      ]
     },
     "execution_count": 9,
     "metadata": {},
     "output_type": "execute_result"
    }
   ],
   "source": [
    "data['HeartDisease'].unique()"
   ]
  },
  {
   "cell_type": "code",
   "execution_count": 10,
   "metadata": {},
   "outputs": [
    {
     "data": {
      "text/plain": [
       "array(['No', 'Yes'], dtype=object)"
      ]
     },
     "execution_count": 10,
     "metadata": {},
     "output_type": "execute_result"
    }
   ],
   "source": [
    "data['Smoking'].unique()"
   ]
  },
  {
   "cell_type": "code",
   "execution_count": 12,
   "metadata": {},
   "outputs": [
    {
     "data": {
      "text/plain": [
       "array(['No', 'Yes'], dtype=object)"
      ]
     },
     "execution_count": 12,
     "metadata": {},
     "output_type": "execute_result"
    }
   ],
   "source": [
    "data['AlcoholDrinking'].unique()"
   ]
  },
  {
   "cell_type": "code",
   "execution_count": 13,
   "metadata": {},
   "outputs": [
    {
     "data": {
      "text/plain": [
       "array(['No', 'Yes'], dtype=object)"
      ]
     },
     "execution_count": 13,
     "metadata": {},
     "output_type": "execute_result"
    }
   ],
   "source": [
    "data['Stroke'].unique()"
   ]
  },
  {
   "cell_type": "code",
   "execution_count": 14,
   "metadata": {},
   "outputs": [
    {
     "data": {
      "text/plain": [
       "array(['No', 'Yes'], dtype=object)"
      ]
     },
     "execution_count": 14,
     "metadata": {},
     "output_type": "execute_result"
    }
   ],
   "source": [
    "data['DiffWalking'].unique()"
   ]
  },
  {
   "cell_type": "code",
   "execution_count": 15,
   "metadata": {},
   "outputs": [
    {
     "data": {
      "text/plain": [
       "array(['Female', 'Male'], dtype=object)"
      ]
     },
     "execution_count": 15,
     "metadata": {},
     "output_type": "execute_result"
    }
   ],
   "source": [
    "data['Sex'].unique()"
   ]
  },
  {
   "cell_type": "code",
   "execution_count": 16,
   "metadata": {},
   "outputs": [
    {
     "data": {
      "text/plain": [
       "array(['50-54', '55-59', '80 or older', '18-24', '60-64', '40-44',\n",
       "       '70-74', '75-79', '65-69', '45-49', '30-34', '35-39', '25-29'],\n",
       "      dtype=object)"
      ]
     },
     "execution_count": 16,
     "metadata": {},
     "output_type": "execute_result"
    }
   ],
   "source": [
    "data['AgeCategory'].unique()"
   ]
  },
  {
   "cell_type": "code",
   "execution_count": 19,
   "metadata": {},
   "outputs": [],
   "source": [
    "data['Age'] = data['AgeCategory'].str[:2]"
   ]
  },
  {
   "cell_type": "code",
   "execution_count": null,
   "metadata": {},
   "outputs": [],
   "source": [
    "data['Age'].unique()"
   ]
  },
  {
   "cell_type": "code",
   "execution_count": 20,
   "metadata": {},
   "outputs": [
    {
     "data": {
      "text/plain": [
       "array(['50', '55', '80', '18', '60', '40', '70', '75', '65', '45', '30',\n",
       "       '35', '25'], dtype=object)"
      ]
     },
     "execution_count": 20,
     "metadata": {},
     "output_type": "execute_result"
    }
   ],
   "source": [
    "data['Age'].unique()"
   ]
  },
  {
   "cell_type": "code",
   "execution_count": 21,
   "metadata": {},
   "outputs": [],
   "source": [
    "data['Age'] = pd.to_numeric(data['Age'])"
   ]
  },
  {
   "cell_type": "code",
   "execution_count": 28,
   "metadata": {},
   "outputs": [],
   "source": [
    "data.drop('AgeCategory',axis=1,inplace=True)"
   ]
  },
  {
   "cell_type": "code",
   "execution_count": null,
   "metadata": {},
   "outputs": [],
   "source": [
    "data['Internal Transfer Opportunities'] = data['Internal Transfer Opportunities'].map({'No':0 , 'Yes': 1})"
   ]
  },
  {
   "cell_type": "code",
   "execution_count": 31,
   "metadata": {},
   "outputs": [],
   "source": [
    "from sklearn.preprocessing import LabelEncoder\n",
    "le=LabelEncoder()                                 #encode the education column\n",
    "label=le.fit_transform(data['HeartDisease'])\n",
    "label\n",
    "data.drop('HeartDisease',axis=1)\n",
    "data['HeartDisease']=label\n",
    "\n",
    "label1=le.fit_transform(data['Smoking'])   #encode the marital_Status column\n",
    "data.drop('Smoking',axis=1)\n",
    "data['Smoking']=label1\n",
    "data\n",
    "\n",
    "label1=le.fit_transform(data['AlcoholDrinking'])   #encode the marital_Status column\n",
    "data.drop('AlcoholDrinking',axis=1)\n",
    "data['AlcoholDrinking']=label1\n",
    "data\n",
    "\n",
    "label1=le.fit_transform(data['Stroke'])   #encode the marital_Status column\n",
    "data.drop('Stroke',axis=1)\n",
    "data['Stroke']=label1\n",
    "data\n",
    "\n",
    "label1=le.fit_transform(data['DiffWalking'])   #encode the marital_Status column\n",
    "data.drop('DiffWalking',axis=1)\n",
    "data['DiffWalking']=label1\n",
    "data\n",
    "\n",
    "label1=le.fit_transform(data['Sex'])   #encode the marital_Status column\n",
    "data.drop('Sex',axis=1)\n",
    "data['Sex']=label1\n",
    "\n",
    "label1=le.fit_transform(data['Race'])   #encode the marital_Status column\n",
    "data.drop('Race',axis=1)\n",
    "data['Race']=label1\n",
    "\n",
    "label1=le.fit_transform(data['Diabetic'])   #encode the marital_Status column\n",
    "data.drop('Diabetic',axis=1)\n",
    "data['Diabetic']=label1\n",
    "\n",
    "label1=le.fit_transform(data['PhysicalActivity'])   #encode the marital_Status column\n",
    "data.drop('Diabetic',axis=1)\n",
    "data['Diabetic']=label1\n",
    "\n",
    "\n",
    "label1=le.fit_transform(data['GenHealth'])   #encode the marital_Status column\n",
    "data.drop('GenHealth',axis=1)\n",
    "data['GenHealth']=label1\n",
    "\n",
    "\n",
    "label1=le.fit_transform(data['Asthma'])   #encode the marital_Status column\n",
    "data.drop('Asthma',axis=1)\n",
    "data['Asthma']=label1\n",
    "\n",
    "label1=le.fit_transform(data['KidneyDisease'])   #encode the marital_Status column\n",
    "data.drop('KidneyDisease',axis=1)\n",
    "data['KidneyDisease']=label1\n",
    "\n",
    "label1=le.fit_transform(data['SkinCancer'])   #encode the marital_Status column\n",
    "data.drop('SkinCancer',axis=1)\n",
    "data['SkinCancer']=label1\n",
    "\n",
    "label1=le.fit_transform(data['PhysicalActivity'])   #encode the marital_Status column\n",
    "data.drop('PhysicalActivity',axis=1)\n",
    "data['PhysicalActivity']=label1"
   ]
  },
  {
   "cell_type": "code",
   "execution_count": 32,
   "metadata": {},
   "outputs": [
    {
     "data": {
      "text/plain": [
       "HeartDisease          int64\n",
       "BMI                 float64\n",
       "Smoking               int64\n",
       "AlcoholDrinking       int64\n",
       "Stroke                int64\n",
       "PhysicalHealth      float64\n",
       "MentalHealth        float64\n",
       "DiffWalking           int64\n",
       "Sex                   int64\n",
       "Race                  int64\n",
       "Diabetic              int32\n",
       "PhysicalActivity      int32\n",
       "GenHealth             int64\n",
       "SleepTime           float64\n",
       "Asthma                int64\n",
       "KidneyDisease         int64\n",
       "SkinCancer            int64\n",
       "Age                   int64\n",
       "dtype: object"
      ]
     },
     "execution_count": 32,
     "metadata": {},
     "output_type": "execute_result"
    }
   ],
   "source": [
    "data.dtypes"
   ]
  },
  {
   "cell_type": "code",
   "execution_count": 33,
   "metadata": {},
   "outputs": [],
   "source": [
    "from sklearn.preprocessing import MinMaxScaler\n",
    "scaling = MinMaxScaler()\n",
    "\n",
    "scaling.fit(data)\n",
    "data_scaled = scaling.transform(data)\n"
   ]
  },
  {
   "cell_type": "code",
   "execution_count": 34,
   "metadata": {},
   "outputs": [],
   "source": [
    "data_scaled = pd.DataFrame(data_scaled, columns= data.columns)"
   ]
  },
  {
   "cell_type": "code",
   "execution_count": 35,
   "metadata": {},
   "outputs": [
    {
     "data": {
      "text/html": [
       "<div>\n",
       "<style scoped>\n",
       "    .dataframe tbody tr th:only-of-type {\n",
       "        vertical-align: middle;\n",
       "    }\n",
       "\n",
       "    .dataframe tbody tr th {\n",
       "        vertical-align: top;\n",
       "    }\n",
       "\n",
       "    .dataframe thead th {\n",
       "        text-align: right;\n",
       "    }\n",
       "</style>\n",
       "<table border=\"1\" class=\"dataframe\">\n",
       "  <thead>\n",
       "    <tr style=\"text-align: right;\">\n",
       "      <th></th>\n",
       "      <th>HeartDisease</th>\n",
       "      <th>BMI</th>\n",
       "      <th>Smoking</th>\n",
       "      <th>AlcoholDrinking</th>\n",
       "      <th>Stroke</th>\n",
       "      <th>PhysicalHealth</th>\n",
       "      <th>MentalHealth</th>\n",
       "      <th>DiffWalking</th>\n",
       "      <th>Sex</th>\n",
       "      <th>Race</th>\n",
       "      <th>Diabetic</th>\n",
       "      <th>PhysicalActivity</th>\n",
       "      <th>GenHealth</th>\n",
       "      <th>SleepTime</th>\n",
       "      <th>Asthma</th>\n",
       "      <th>KidneyDisease</th>\n",
       "      <th>SkinCancer</th>\n",
       "      <th>Age</th>\n",
       "    </tr>\n",
       "  </thead>\n",
       "  <tbody>\n",
       "    <tr>\n",
       "      <th>0</th>\n",
       "      <td>0.0</td>\n",
       "      <td>0.236224</td>\n",
       "      <td>0.0</td>\n",
       "      <td>0.0</td>\n",
       "      <td>0.0</td>\n",
       "      <td>0.000000</td>\n",
       "      <td>0.000000</td>\n",
       "      <td>0.0</td>\n",
       "      <td>0.0</td>\n",
       "      <td>0.4</td>\n",
       "      <td>0.0</td>\n",
       "      <td>0.0</td>\n",
       "      <td>1.0</td>\n",
       "      <td>0.260870</td>\n",
       "      <td>0.0</td>\n",
       "      <td>0.0</td>\n",
       "      <td>0.0</td>\n",
       "      <td>0.516129</td>\n",
       "    </tr>\n",
       "    <tr>\n",
       "      <th>1</th>\n",
       "      <td>0.0</td>\n",
       "      <td>0.129574</td>\n",
       "      <td>0.0</td>\n",
       "      <td>0.0</td>\n",
       "      <td>0.0</td>\n",
       "      <td>0.000000</td>\n",
       "      <td>0.166667</td>\n",
       "      <td>0.0</td>\n",
       "      <td>0.0</td>\n",
       "      <td>1.0</td>\n",
       "      <td>1.0</td>\n",
       "      <td>1.0</td>\n",
       "      <td>0.0</td>\n",
       "      <td>0.347826</td>\n",
       "      <td>0.0</td>\n",
       "      <td>0.0</td>\n",
       "      <td>0.0</td>\n",
       "      <td>0.596774</td>\n",
       "    </tr>\n",
       "    <tr>\n",
       "      <th>2</th>\n",
       "      <td>0.0</td>\n",
       "      <td>0.245337</td>\n",
       "      <td>0.0</td>\n",
       "      <td>0.0</td>\n",
       "      <td>1.0</td>\n",
       "      <td>0.000000</td>\n",
       "      <td>0.000000</td>\n",
       "      <td>0.0</td>\n",
       "      <td>0.0</td>\n",
       "      <td>0.4</td>\n",
       "      <td>0.0</td>\n",
       "      <td>0.0</td>\n",
       "      <td>0.5</td>\n",
       "      <td>0.304348</td>\n",
       "      <td>0.0</td>\n",
       "      <td>0.0</td>\n",
       "      <td>0.0</td>\n",
       "      <td>1.000000</td>\n",
       "    </tr>\n",
       "    <tr>\n",
       "      <th>3</th>\n",
       "      <td>0.0</td>\n",
       "      <td>0.222127</td>\n",
       "      <td>0.0</td>\n",
       "      <td>0.0</td>\n",
       "      <td>0.0</td>\n",
       "      <td>0.000000</td>\n",
       "      <td>0.000000</td>\n",
       "      <td>0.0</td>\n",
       "      <td>1.0</td>\n",
       "      <td>1.0</td>\n",
       "      <td>1.0</td>\n",
       "      <td>1.0</td>\n",
       "      <td>0.0</td>\n",
       "      <td>0.260870</td>\n",
       "      <td>0.0</td>\n",
       "      <td>0.0</td>\n",
       "      <td>0.0</td>\n",
       "      <td>0.596774</td>\n",
       "    </tr>\n",
       "    <tr>\n",
       "      <th>4</th>\n",
       "      <td>0.0</td>\n",
       "      <td>0.146376</td>\n",
       "      <td>0.0</td>\n",
       "      <td>0.0</td>\n",
       "      <td>0.0</td>\n",
       "      <td>0.066667</td>\n",
       "      <td>0.000000</td>\n",
       "      <td>0.0</td>\n",
       "      <td>1.0</td>\n",
       "      <td>0.2</td>\n",
       "      <td>1.0</td>\n",
       "      <td>1.0</td>\n",
       "      <td>0.0</td>\n",
       "      <td>0.304348</td>\n",
       "      <td>0.0</td>\n",
       "      <td>0.0</td>\n",
       "      <td>0.0</td>\n",
       "      <td>0.000000</td>\n",
       "    </tr>\n",
       "  </tbody>\n",
       "</table>\n",
       "</div>"
      ],
      "text/plain": [
       "   HeartDisease       BMI  Smoking  AlcoholDrinking  Stroke  PhysicalHealth  \\\n",
       "0           0.0  0.236224      0.0              0.0     0.0        0.000000   \n",
       "1           0.0  0.129574      0.0              0.0     0.0        0.000000   \n",
       "2           0.0  0.245337      0.0              0.0     1.0        0.000000   \n",
       "3           0.0  0.222127      0.0              0.0     0.0        0.000000   \n",
       "4           0.0  0.146376      0.0              0.0     0.0        0.066667   \n",
       "\n",
       "   MentalHealth  DiffWalking  Sex  Race  Diabetic  PhysicalActivity  \\\n",
       "0      0.000000          0.0  0.0   0.4       0.0               0.0   \n",
       "1      0.166667          0.0  0.0   1.0       1.0               1.0   \n",
       "2      0.000000          0.0  0.0   0.4       0.0               0.0   \n",
       "3      0.000000          0.0  1.0   1.0       1.0               1.0   \n",
       "4      0.000000          0.0  1.0   0.2       1.0               1.0   \n",
       "\n",
       "   GenHealth  SleepTime  Asthma  KidneyDisease  SkinCancer       Age  \n",
       "0        1.0   0.260870     0.0            0.0         0.0  0.516129  \n",
       "1        0.0   0.347826     0.0            0.0         0.0  0.596774  \n",
       "2        0.5   0.304348     0.0            0.0         0.0  1.000000  \n",
       "3        0.0   0.260870     0.0            0.0         0.0  0.596774  \n",
       "4        0.0   0.304348     0.0            0.0         0.0  0.000000  "
      ]
     },
     "execution_count": 35,
     "metadata": {},
     "output_type": "execute_result"
    }
   ],
   "source": [
    "data_scaled.head()"
   ]
  },
  {
   "cell_type": "code",
   "execution_count": 36,
   "metadata": {},
   "outputs": [
    {
     "data": {
      "text/plain": [
       "HeartDisease        0\n",
       "BMI                 0\n",
       "Smoking             0\n",
       "AlcoholDrinking     0\n",
       "Stroke              0\n",
       "PhysicalHealth      0\n",
       "MentalHealth        0\n",
       "DiffWalking         0\n",
       "Sex                 0\n",
       "Race                0\n",
       "Diabetic            0\n",
       "PhysicalActivity    0\n",
       "GenHealth           0\n",
       "SleepTime           0\n",
       "Asthma              0\n",
       "KidneyDisease       0\n",
       "SkinCancer          0\n",
       "Age                 0\n",
       "dtype: int64"
      ]
     },
     "execution_count": 36,
     "metadata": {},
     "output_type": "execute_result"
    }
   ],
   "source": [
    "data_scaled.isnull().sum()"
   ]
  },
  {
   "cell_type": "markdown",
   "metadata": {},
   "source": [
    "## Cluster Analysis"
   ]
  },
  {
   "cell_type": "markdown",
   "metadata": {},
   "source": [
    "### Mini Batch K Mean"
   ]
  },
  {
   "cell_type": "code",
   "execution_count": 37,
   "metadata": {},
   "outputs": [],
   "source": [
    "from sklearn.cluster import MiniBatchKMeans\n",
    "from sklearn.metrics import silhouette_score\n",
    "from sklearn.metrics import davies_bouldin_score\n",
    "from sklearn.metrics.cluster import fowlkes_mallows_score\n",
    "from sklearn.metrics.cluster import adjusted_rand_score\n",
    "from sklearn.metrics.cluster import normalized_mutual_info_score\n",
    "from sklearn.metrics import v_measure_score\n",
    "from sklearn.metrics import homogeneity_score\n",
    "\n",
    "\n",
    "\n",
    "kmeans = MiniBatchKMeans(n_clusters=6, random_state=0, batch_size=6)\n",
    "data_scaled[\"Cluster\"] = kmeans.fit_predict(data_scaled)\n",
    "#data_scaled[\"Cluster\"] = data_scaled[\"Cluster\"].astype(\"int\")"
   ]
  },
  {
   "cell_type": "code",
   "execution_count": 39,
   "metadata": {},
   "outputs": [],
   "source": [
    "labels_pred = data_scaled[\"Cluster\"]\n",
    "true_label = data_scaled['HeartDisease']"
   ]
  },
  {
   "cell_type": "code",
   "execution_count": 40,
   "metadata": {},
   "outputs": [
    {
     "name": "stdout",
     "output_type": "stream",
     "text": [
      "Silhouetter Score is: 0.3760189775239313\n",
      "--------------------------------------------------------------\n",
      "DB Index (Davies-Bouldin index) is : 1.1280797318418685\n",
      "--------------------------------------------------------------\n",
      "Fowkles Marrow Score is: 0.39523709357824643\n",
      "--------------------------------------------------------------\n",
      "ARI is: -0.0007761835788756385\n",
      "--------------------------------------------------------------\n",
      "Mutual Info Value is: 0.015845313744573458\n",
      "--------------------------------------------------------------\n",
      "Mutual Info is: 0.015845313744573458\n",
      "--------------------------------------------------------------\n",
      "Homogeneity Score is: 0.052694615607560474\n"
     ]
    }
   ],
   "source": [
    "score = silhouette_score(data_scaled, kmeans.labels_, metric='euclidean')\n",
    "print(\"Silhouetter Score is:\", score)\n",
    "print(\"--------------------------------------------------------------\")\n",
    "\n",
    "db_index = davies_bouldin_score(data_scaled, data_scaled[\"Cluster\"] )\n",
    "print(\"DB Index (Davies-Bouldin index) is :\", db_index)\n",
    "print(\"--------------------------------------------------------------\")\n",
    "\n",
    "fowlkes = fowlkes_mallows_score(true_label, labels_pred)\n",
    "print(\"Fowkles Marrow Score is:\",fowlkes)\n",
    "print(\"--------------------------------------------------------------\")\n",
    "\n",
    "ARI = adjusted_rand_score(true_label, labels_pred)\n",
    "print(\"ARI is:\", ARI)\n",
    "\n",
    "print(\"--------------------------------------------------------------\")\n",
    "mutual_info = normalized_mutual_info_score (true_label, labels_pred)\n",
    "print(\"Mutual Info Value is:\", mutual_info)\n",
    "\n",
    "print(\"--------------------------------------------------------------\")\n",
    "v_scores = v_measure_score(true_label, labels_pred)\n",
    "print(\"Mutual Info is:\", mutual_info)\n",
    "\n",
    "print(\"--------------------------------------------------------------\")\n",
    "homo_score = homogeneity_score(true_label, labels_pred)\n",
    "print(\"Homogeneity Score is:\",homo_score )"
   ]
  },
  {
   "cell_type": "markdown",
   "metadata": {},
   "source": [
    "### Aglomarative Clustering"
   ]
  },
  {
   "cell_type": "code",
   "execution_count": 41,
   "metadata": {},
   "outputs": [],
   "source": [
    "from sklearn.cluster import AgglomerativeClustering\n",
    "clustering_model = AgglomerativeClustering(n_clusters=3, linkage=\"ward\")\n",
    "data_scaled[\"Cluster\"] = clustering_model.fit_predict(data_scaled)"
   ]
  },
  {
   "cell_type": "code",
   "execution_count": 43,
   "metadata": {},
   "outputs": [
    {
     "name": "stdout",
     "output_type": "stream",
     "text": [
      "Silhouetter Score is: 0.24244435253916857\n",
      "--------------------------------------------------------------\n",
      "DB Index (Davies-Bouldin index) is : 1.4615142606828178\n",
      "--------------------------------------------------------------\n",
      "Fowkles Marrow Score is: 0.39523709357824643\n",
      "--------------------------------------------------------------\n",
      "ARI is: -0.0007761835788756385\n",
      "--------------------------------------------------------------\n",
      "Mutual Info Value is: 0.015845313744573458\n",
      "--------------------------------------------------------------\n",
      "Mutual Info is: 0.015845313744573458\n",
      "--------------------------------------------------------------\n",
      "Homogeneity Score is: 0.052694615607560474\n"
     ]
    }
   ],
   "source": [
    "score = silhouette_score(data_scaled, labels_pred, metric='euclidean')\n",
    "print(\"Silhouetter Score is:\", score)\n",
    "print(\"--------------------------------------------------------------\")\n",
    "\n",
    "db_index = davies_bouldin_score(data_scaled, data_scaled[\"Cluster\"] )\n",
    "print(\"DB Index (Davies-Bouldin index) is :\", db_index)\n",
    "print(\"--------------------------------------------------------------\")\n",
    "\n",
    "fowlkes = fowlkes_mallows_score(true_label, labels_pred)\n",
    "print(\"Fowkles Marrow Score is:\",fowlkes)\n",
    "print(\"--------------------------------------------------------------\")\n",
    "\n",
    "ARI = adjusted_rand_score(true_label, labels_pred)\n",
    "print(\"ARI is:\", ARI)\n",
    "\n",
    "print(\"--------------------------------------------------------------\")\n",
    "mutual_info = normalized_mutual_info_score (true_label, labels_pred)\n",
    "print(\"Mutual Info Value is:\", mutual_info)\n",
    "\n",
    "print(\"--------------------------------------------------------------\")\n",
    "v_scores = v_measure_score(true_label, labels_pred)\n",
    "print(\"Mutual Info is:\", mutual_info)\n",
    "\n",
    "print(\"--------------------------------------------------------------\")\n",
    "homo_score = homogeneity_score(true_label, labels_pred)\n",
    "print(\"Homogeneity Score is:\",homo_score )"
   ]
  },
  {
   "cell_type": "markdown",
   "metadata": {},
   "source": [
    "### DBSCAN"
   ]
  },
  {
   "cell_type": "code",
   "execution_count": 44,
   "metadata": {},
   "outputs": [],
   "source": [
    "from sklearn.cluster import DBSCAN\n",
    "epsilon = 1.0\n",
    "min_samples = 13\n",
    "\n",
    "labels = DBSCAN(eps=epsilon, min_samples=min_samples).fit_predict(data_scaled)"
   ]
  },
  {
   "cell_type": "code",
   "execution_count": 45,
   "metadata": {},
   "outputs": [
    {
     "name": "stdout",
     "output_type": "stream",
     "text": [
      "Silhouetter Score is: 0.09193662943548231\n",
      "--------------------------------------------------------------\n",
      "DB Index (Davies-Bouldin index) is : 1.4615142606828178\n",
      "--------------------------------------------------------------\n",
      "Fowkles Marrow Score is: 0.4485982320864344\n",
      "--------------------------------------------------------------\n",
      "ARI is: 0.044762191222432676\n",
      "--------------------------------------------------------------\n",
      "Mutual Info Value is: 0.1165019058927336\n",
      "--------------------------------------------------------------\n",
      "Mutual Info is: 0.1165019058927336\n",
      "--------------------------------------------------------------\n",
      "Homogeneity Score is: 0.49852912035080055\n"
     ]
    }
   ],
   "source": [
    "score = silhouette_score(data_scaled, labels , metric='euclidean')\n",
    "print(\"Silhouetter Score is:\", score)\n",
    "print(\"--------------------------------------------------------------\")\n",
    "\n",
    "db_index = davies_bouldin_score(data_scaled, data_scaled[\"Cluster\"] )\n",
    "print(\"DB Index (Davies-Bouldin index) is :\", db_index)\n",
    "print(\"--------------------------------------------------------------\")\n",
    "\n",
    "fowlkes = fowlkes_mallows_score(true_label, labels)\n",
    "print(\"Fowkles Marrow Score is:\",fowlkes)\n",
    "print(\"--------------------------------------------------------------\")\n",
    "\n",
    "ARI = adjusted_rand_score(true_label, labels)\n",
    "print(\"ARI is:\", ARI)\n",
    "\n",
    "print(\"--------------------------------------------------------------\")\n",
    "mutual_info = normalized_mutual_info_score (true_label, labels)\n",
    "print(\"Mutual Info Value is:\", mutual_info)\n",
    "\n",
    "print(\"--------------------------------------------------------------\")\n",
    "v_scores = v_measure_score(true_label, labels)\n",
    "print(\"Mutual Info is:\", mutual_info)\n",
    "\n",
    "print(\"--------------------------------------------------------------\")\n",
    "homo_score = homogeneity_score(true_label, labels)\n",
    "print(\"Homogeneity Score is:\",homo_score )"
   ]
  },
  {
   "cell_type": "markdown",
   "metadata": {},
   "source": [
    "### OPTICS Model"
   ]
  },
  {
   "cell_type": "code",
   "execution_count": 46,
   "metadata": {},
   "outputs": [],
   "source": [
    "from sklearn.cluster import OPTICS\n",
    "\n",
    "labels = OPTICS(min_samples=3).fit_predict(data_scaled)"
   ]
  },
  {
   "cell_type": "code",
   "execution_count": 47,
   "metadata": {},
   "outputs": [
    {
     "name": "stdout",
     "output_type": "stream",
     "text": [
      "Silhouetter Score is: -0.1986978896794215\n",
      "--------------------------------------------------------------\n",
      "DB Index (Davies-Bouldin index) is : 1.4615142606828178\n",
      "--------------------------------------------------------------\n",
      "Fowkles Marrow Score is: 0.47356870448307575\n",
      "--------------------------------------------------------------\n",
      "ARI is: 0.008977864081343483\n",
      "--------------------------------------------------------------\n",
      "Mutual Info Value is: 0.06669607965169075\n",
      "--------------------------------------------------------------\n",
      "Mutual Info is: 0.06669607965169075\n",
      "--------------------------------------------------------------\n",
      "Homogeneity Score is: 0.5150044845123396\n"
     ]
    }
   ],
   "source": [
    "score = silhouette_score(data_scaled, labels , metric='euclidean')\n",
    "print(\"Silhouetter Score is:\", score)\n",
    "print(\"--------------------------------------------------------------\")\n",
    "\n",
    "db_index = davies_bouldin_score(data_scaled, data_scaled[\"Cluster\"] )\n",
    "print(\"DB Index (Davies-Bouldin index) is :\", db_index)\n",
    "print(\"--------------------------------------------------------------\")\n",
    "\n",
    "fowlkes = fowlkes_mallows_score(true_label, labels)\n",
    "print(\"Fowkles Marrow Score is:\",fowlkes)\n",
    "print(\"--------------------------------------------------------------\")\n",
    "\n",
    "ARI = adjusted_rand_score(true_label, labels)\n",
    "print(\"ARI is:\", ARI)\n",
    "\n",
    "print(\"--------------------------------------------------------------\")\n",
    "mutual_info = normalized_mutual_info_score (true_label, labels)\n",
    "print(\"Mutual Info Value is:\", mutual_info)\n",
    "\n",
    "print(\"--------------------------------------------------------------\")\n",
    "v_scores = v_measure_score(true_label, labels)\n",
    "print(\"Mutual Info is:\", mutual_info)\n",
    "\n",
    "print(\"--------------------------------------------------------------\")\n",
    "homo_score = homogeneity_score(true_label, labels)\n",
    "print(\"Homogeneity Score is:\",homo_score )"
   ]
  },
  {
   "cell_type": "markdown",
   "metadata": {},
   "source": [
    "### Mean Shift"
   ]
  },
  {
   "cell_type": "code",
   "execution_count": 49,
   "metadata": {},
   "outputs": [],
   "source": [
    "from sklearn.cluster import MeanShift\n",
    "labels = MeanShift().fit_predict(data_scaled)"
   ]
  },
  {
   "cell_type": "code",
   "execution_count": 50,
   "metadata": {},
   "outputs": [
    {
     "name": "stdout",
     "output_type": "stream",
     "text": [
      "Silhouetter Score is: 0.35936191177879584\n",
      "--------------------------------------------------------------\n",
      "DB Index (Davies-Bouldin index) is : 1.4615142606828178\n",
      "--------------------------------------------------------------\n",
      "Fowkles Marrow Score is: 0.7627144498233155\n",
      "--------------------------------------------------------------\n",
      "ARI is: 0.05359339817010328\n",
      "--------------------------------------------------------------\n",
      "Mutual Info Value is: 0.008664145569282347\n",
      "--------------------------------------------------------------\n",
      "Mutual Info is: 0.008664145569282347\n",
      "--------------------------------------------------------------\n",
      "Homogeneity Score is: 0.011529922240013315\n"
     ]
    }
   ],
   "source": [
    "score = silhouette_score(data_scaled, labels , metric='euclidean')\n",
    "print(\"Silhouetter Score is:\", score)\n",
    "print(\"--------------------------------------------------------------\")\n",
    "\n",
    "db_index = davies_bouldin_score(data_scaled, data_scaled[\"Cluster\"] )\n",
    "print(\"DB Index (Davies-Bouldin index) is :\", db_index)\n",
    "print(\"--------------------------------------------------------------\")\n",
    "\n",
    "fowlkes = fowlkes_mallows_score(true_label, labels)\n",
    "print(\"Fowkles Marrow Score is:\",fowlkes)\n",
    "print(\"--------------------------------------------------------------\")\n",
    "\n",
    "ARI = adjusted_rand_score(true_label, labels)\n",
    "print(\"ARI is:\", ARI)\n",
    "\n",
    "print(\"--------------------------------------------------------------\")\n",
    "mutual_info = normalized_mutual_info_score (true_label, labels)\n",
    "print(\"Mutual Info Value is:\", mutual_info)\n",
    "\n",
    "print(\"--------------------------------------------------------------\")\n",
    "v_scores = v_measure_score(true_label, labels)\n",
    "print(\"Mutual Info is:\", mutual_info)\n",
    "\n",
    "print(\"--------------------------------------------------------------\")\n",
    "homo_score = homogeneity_score(true_label, labels)\n",
    "print(\"Homogeneity Score is:\",homo_score )"
   ]
  }
 ],
 "metadata": {
  "kernelspec": {
   "display_name": "Python 3.9.7 64-bit",
   "language": "python",
   "name": "python3"
  },
  "language_info": {
   "codemirror_mode": {
    "name": "ipython",
    "version": 3
   },
   "file_extension": ".py",
   "mimetype": "text/x-python",
   "name": "python",
   "nbconvert_exporter": "python",
   "pygments_lexer": "ipython3",
   "version": "3.9.7"
  },
  "orig_nbformat": 4,
  "vscode": {
   "interpreter": {
    "hash": "95f57ecaf1e4684a97728584cbdcdcfb0a14de4fde6afb1e55592db96a99a5c0"
   }
  }
 },
 "nbformat": 4,
 "nbformat_minor": 2
}
