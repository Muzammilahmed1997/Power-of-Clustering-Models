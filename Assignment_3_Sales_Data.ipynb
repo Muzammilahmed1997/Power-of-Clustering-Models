{
 "cells": [
  {
   "cell_type": "code",
   "execution_count": 1,
   "metadata": {},
   "outputs": [],
   "source": [
    "import pandas as pd   \n",
    "import matplotlib.pyplot as plt\n",
    "import plotly.express as px\n",
    "import time\n",
    "import numpy as np\n",
    "import warnings\n",
    "\n",
    "\n",
    "from sklearn.pipeline import Pipeline\n",
    "from matplotlib import pyplot\n",
    "# the permutation based importance\n",
    "import seaborn as sns\n",
    "\n",
    "from numpy import mean\n",
    "import warnings\n",
    "warnings.filterwarnings(\"ignore\") "
   ]
  },
  {
   "cell_type": "code",
   "execution_count": 2,
   "metadata": {},
   "outputs": [
    {
     "data": {
      "text/plain": [
       "(811, 107)"
      ]
     },
     "execution_count": 2,
     "metadata": {},
     "output_type": "execute_result"
    }
   ],
   "source": [
    "# Importing Dataset using Pandas.\n",
    "data = pd.read_csv(\"E:/sales_data.csv\")\n",
    "data.shape  "
   ]
  },
  {
   "cell_type": "code",
   "execution_count": 3,
   "metadata": {},
   "outputs": [
    {
     "data": {
      "text/html": [
       "<div>\n",
       "<style scoped>\n",
       "    .dataframe tbody tr th:only-of-type {\n",
       "        vertical-align: middle;\n",
       "    }\n",
       "\n",
       "    .dataframe tbody tr th {\n",
       "        vertical-align: top;\n",
       "    }\n",
       "\n",
       "    .dataframe thead th {\n",
       "        text-align: right;\n",
       "    }\n",
       "</style>\n",
       "<table border=\"1\" class=\"dataframe\">\n",
       "  <thead>\n",
       "    <tr style=\"text-align: right;\">\n",
       "      <th></th>\n",
       "      <th>Product_Code</th>\n",
       "      <th>W0</th>\n",
       "      <th>W1</th>\n",
       "      <th>W2</th>\n",
       "      <th>W3</th>\n",
       "      <th>W4</th>\n",
       "      <th>W5</th>\n",
       "      <th>W6</th>\n",
       "      <th>W7</th>\n",
       "      <th>W8</th>\n",
       "      <th>...</th>\n",
       "      <th>Normalized 42</th>\n",
       "      <th>Normalized 43</th>\n",
       "      <th>Normalized 44</th>\n",
       "      <th>Normalized 45</th>\n",
       "      <th>Normalized 46</th>\n",
       "      <th>Normalized 47</th>\n",
       "      <th>Normalized 48</th>\n",
       "      <th>Normalized 49</th>\n",
       "      <th>Normalized 50</th>\n",
       "      <th>Normalized 51</th>\n",
       "    </tr>\n",
       "  </thead>\n",
       "  <tbody>\n",
       "    <tr>\n",
       "      <th>0</th>\n",
       "      <td>P1</td>\n",
       "      <td>11</td>\n",
       "      <td>12</td>\n",
       "      <td>10</td>\n",
       "      <td>8</td>\n",
       "      <td>13</td>\n",
       "      <td>12</td>\n",
       "      <td>14</td>\n",
       "      <td>21</td>\n",
       "      <td>6</td>\n",
       "      <td>...</td>\n",
       "      <td>0.06</td>\n",
       "      <td>0.22</td>\n",
       "      <td>0.28</td>\n",
       "      <td>0.39</td>\n",
       "      <td>0.50</td>\n",
       "      <td>0.00</td>\n",
       "      <td>0.22</td>\n",
       "      <td>0.17</td>\n",
       "      <td>0.11</td>\n",
       "      <td>0.39</td>\n",
       "    </tr>\n",
       "    <tr>\n",
       "      <th>1</th>\n",
       "      <td>P2</td>\n",
       "      <td>7</td>\n",
       "      <td>6</td>\n",
       "      <td>3</td>\n",
       "      <td>2</td>\n",
       "      <td>7</td>\n",
       "      <td>1</td>\n",
       "      <td>6</td>\n",
       "      <td>3</td>\n",
       "      <td>3</td>\n",
       "      <td>...</td>\n",
       "      <td>0.20</td>\n",
       "      <td>0.40</td>\n",
       "      <td>0.50</td>\n",
       "      <td>0.10</td>\n",
       "      <td>0.10</td>\n",
       "      <td>0.40</td>\n",
       "      <td>0.50</td>\n",
       "      <td>0.10</td>\n",
       "      <td>0.60</td>\n",
       "      <td>0.00</td>\n",
       "    </tr>\n",
       "    <tr>\n",
       "      <th>2</th>\n",
       "      <td>P3</td>\n",
       "      <td>7</td>\n",
       "      <td>11</td>\n",
       "      <td>8</td>\n",
       "      <td>9</td>\n",
       "      <td>10</td>\n",
       "      <td>8</td>\n",
       "      <td>7</td>\n",
       "      <td>13</td>\n",
       "      <td>12</td>\n",
       "      <td>...</td>\n",
       "      <td>0.27</td>\n",
       "      <td>1.00</td>\n",
       "      <td>0.18</td>\n",
       "      <td>0.18</td>\n",
       "      <td>0.36</td>\n",
       "      <td>0.45</td>\n",
       "      <td>1.00</td>\n",
       "      <td>0.45</td>\n",
       "      <td>0.45</td>\n",
       "      <td>0.36</td>\n",
       "    </tr>\n",
       "    <tr>\n",
       "      <th>3</th>\n",
       "      <td>P4</td>\n",
       "      <td>12</td>\n",
       "      <td>8</td>\n",
       "      <td>13</td>\n",
       "      <td>5</td>\n",
       "      <td>9</td>\n",
       "      <td>6</td>\n",
       "      <td>9</td>\n",
       "      <td>13</td>\n",
       "      <td>13</td>\n",
       "      <td>...</td>\n",
       "      <td>0.41</td>\n",
       "      <td>0.47</td>\n",
       "      <td>0.06</td>\n",
       "      <td>0.12</td>\n",
       "      <td>0.24</td>\n",
       "      <td>0.35</td>\n",
       "      <td>0.71</td>\n",
       "      <td>0.35</td>\n",
       "      <td>0.29</td>\n",
       "      <td>0.35</td>\n",
       "    </tr>\n",
       "    <tr>\n",
       "      <th>4</th>\n",
       "      <td>P5</td>\n",
       "      <td>8</td>\n",
       "      <td>5</td>\n",
       "      <td>13</td>\n",
       "      <td>11</td>\n",
       "      <td>6</td>\n",
       "      <td>7</td>\n",
       "      <td>9</td>\n",
       "      <td>14</td>\n",
       "      <td>9</td>\n",
       "      <td>...</td>\n",
       "      <td>0.27</td>\n",
       "      <td>0.53</td>\n",
       "      <td>0.27</td>\n",
       "      <td>0.60</td>\n",
       "      <td>0.20</td>\n",
       "      <td>0.20</td>\n",
       "      <td>0.13</td>\n",
       "      <td>0.53</td>\n",
       "      <td>0.33</td>\n",
       "      <td>0.40</td>\n",
       "    </tr>\n",
       "  </tbody>\n",
       "</table>\n",
       "<p>5 rows × 107 columns</p>\n",
       "</div>"
      ],
      "text/plain": [
       "  Product_Code  W0  W1  W2  W3  W4  W5  W6  W7  W8  ...  Normalized 42  \\\n",
       "0           P1  11  12  10   8  13  12  14  21   6  ...           0.06   \n",
       "1           P2   7   6   3   2   7   1   6   3   3  ...           0.20   \n",
       "2           P3   7  11   8   9  10   8   7  13  12  ...           0.27   \n",
       "3           P4  12   8  13   5   9   6   9  13  13  ...           0.41   \n",
       "4           P5   8   5  13  11   6   7   9  14   9  ...           0.27   \n",
       "\n",
       "   Normalized 43  Normalized 44  Normalized 45  Normalized 46  Normalized 47  \\\n",
       "0           0.22           0.28           0.39           0.50           0.00   \n",
       "1           0.40           0.50           0.10           0.10           0.40   \n",
       "2           1.00           0.18           0.18           0.36           0.45   \n",
       "3           0.47           0.06           0.12           0.24           0.35   \n",
       "4           0.53           0.27           0.60           0.20           0.20   \n",
       "\n",
       "   Normalized 48  Normalized 49  Normalized 50  Normalized 51  \n",
       "0           0.22           0.17           0.11           0.39  \n",
       "1           0.50           0.10           0.60           0.00  \n",
       "2           1.00           0.45           0.45           0.36  \n",
       "3           0.71           0.35           0.29           0.35  \n",
       "4           0.13           0.53           0.33           0.40  \n",
       "\n",
       "[5 rows x 107 columns]"
      ]
     },
     "execution_count": 3,
     "metadata": {},
     "output_type": "execute_result"
    }
   ],
   "source": [
    "data.head()"
   ]
  },
  {
   "cell_type": "code",
   "execution_count": 6,
   "metadata": {},
   "outputs": [
    {
     "data": {
      "text/plain": [
       "Product_Code      object\n",
       "W0                 int64\n",
       "W1                 int64\n",
       "W2                 int64\n",
       "W3                 int64\n",
       "                  ...   \n",
       "Normalized 47    float64\n",
       "Normalized 48    float64\n",
       "Normalized 49    float64\n",
       "Normalized 50    float64\n",
       "Normalized 51    float64\n",
       "Length: 107, dtype: object"
      ]
     },
     "execution_count": 6,
     "metadata": {},
     "output_type": "execute_result"
    }
   ],
   "source": [
    "data.dtypes"
   ]
  },
  {
   "cell_type": "code",
   "execution_count": 9,
   "metadata": {},
   "outputs": [
    {
     "data": {
      "text/plain": [
       "<bound method DataFrame.info of     Product_Code  W0  W1  W2  W3  W4  W5  W6  W7  W8  ...  Normalized 42  \\\n",
       "0             P1  11  12  10   8  13  12  14  21   6  ...           0.06   \n",
       "1             P2   7   6   3   2   7   1   6   3   3  ...           0.20   \n",
       "2             P3   7  11   8   9  10   8   7  13  12  ...           0.27   \n",
       "3             P4  12   8  13   5   9   6   9  13  13  ...           0.41   \n",
       "4             P5   8   5  13  11   6   7   9  14   9  ...           0.27   \n",
       "..           ...  ..  ..  ..  ..  ..  ..  ..  ..  ..  ...            ...   \n",
       "806         P815   0   0   1   0   0   2   1   0   0  ...           0.00   \n",
       "807         P816   0   1   0   0   1   2   2   6   0  ...           0.43   \n",
       "808         P817   1   0   0   0   1   1   2   1   1  ...           0.50   \n",
       "809         P818   0   0   0   1   0   0   0   0   1  ...           0.00   \n",
       "810         P819   0   1   0   0   0   0   0   0   0  ...           0.00   \n",
       "\n",
       "     Normalized 43  Normalized 44  Normalized 45  Normalized 46  \\\n",
       "0             0.22           0.28           0.39           0.50   \n",
       "1             0.40           0.50           0.10           0.10   \n",
       "2             1.00           0.18           0.18           0.36   \n",
       "3             0.47           0.06           0.12           0.24   \n",
       "4             0.53           0.27           0.60           0.20   \n",
       "..             ...            ...            ...            ...   \n",
       "806           0.33           0.33           0.00           0.00   \n",
       "807           0.43           0.57           0.29           0.57   \n",
       "808           0.00           0.00           0.50           0.50   \n",
       "809           0.00           0.00           0.50           0.50   \n",
       "810           0.00           0.00           0.00           0.00   \n",
       "\n",
       "     Normalized 47  Normalized 48  Normalized 49  Normalized 50  Normalized 51  \n",
       "0             0.00           0.22           0.17           0.11           0.39  \n",
       "1             0.40           0.50           0.10           0.60           0.00  \n",
       "2             0.45           1.00           0.45           0.45           0.36  \n",
       "3             0.35           0.71           0.35           0.29           0.35  \n",
       "4             0.20           0.13           0.53           0.33           0.40  \n",
       "..             ...            ...            ...            ...            ...  \n",
       "806           0.33           0.00           0.00           0.67           0.00  \n",
       "807           0.71           0.71           0.71           0.86           0.71  \n",
       "808           0.00           0.00           0.00           1.00           0.75  \n",
       "809           0.00           0.00           0.00           1.00           0.00  \n",
       "810           0.00           0.00           0.00           0.00           0.33  \n",
       "\n",
       "[811 rows x 107 columns]>"
      ]
     },
     "execution_count": 9,
     "metadata": {},
     "output_type": "execute_result"
    }
   ],
   "source": [
    "data.info"
   ]
  },
  {
   "cell_type": "code",
   "execution_count": 10,
   "metadata": {},
   "outputs": [
    {
     "data": {
      "text/plain": [
       "Product_Code     0\n",
       "W0               0\n",
       "W1               0\n",
       "W2               0\n",
       "W3               0\n",
       "                ..\n",
       "Normalized 47    0\n",
       "Normalized 48    0\n",
       "Normalized 49    0\n",
       "Normalized 50    0\n",
       "Normalized 51    0\n",
       "Length: 107, dtype: int64"
      ]
     },
     "execution_count": 10,
     "metadata": {},
     "output_type": "execute_result"
    }
   ],
   "source": [
    "data.isnull().sum()"
   ]
  },
  {
   "cell_type": "code",
   "execution_count": 15,
   "metadata": {},
   "outputs": [],
   "source": [
    "data.drop('Product_Code',axis=1,inplace=True)"
   ]
  },
  {
   "cell_type": "code",
   "execution_count": 16,
   "metadata": {},
   "outputs": [],
   "source": [
    "from sklearn.preprocessing import MinMaxScaler\n",
    "scaling = MinMaxScaler()\n",
    "\n",
    "scaling.fit(data)\n",
    "data_scaled = scaling.transform(data)"
   ]
  },
  {
   "cell_type": "code",
   "execution_count": 19,
   "metadata": {},
   "outputs": [],
   "source": [
    "data_scaled = pd.DataFrame(data_scaled, columns= data.columns)"
   ]
  },
  {
   "cell_type": "markdown",
   "metadata": {},
   "source": [
    "## Cluster Analysis"
   ]
  },
  {
   "cell_type": "markdown",
   "metadata": {},
   "source": [
    "### Mini Batch Kmean Model"
   ]
  },
  {
   "cell_type": "code",
   "execution_count": 20,
   "metadata": {},
   "outputs": [],
   "source": [
    "from sklearn.cluster import MiniBatchKMeans\n",
    "from sklearn.cluster import KMeans\n",
    "from sklearn.metrics import silhouette_score\n",
    "from sklearn.metrics import davies_bouldin_score\n",
    "from sklearn.metrics.cluster import fowlkes_mallows_score\n",
    "from sklearn.metrics.cluster import adjusted_rand_score\n",
    "from sklearn.metrics.cluster import normalized_mutual_info_score\n",
    "from sklearn.metrics import v_measure_score\n",
    "from sklearn.metrics import homogeneity_score"
   ]
  },
  {
   "cell_type": "code",
   "execution_count": 21,
   "metadata": {},
   "outputs": [
    {
     "data": {
      "image/png": "[encoded data removed]",
      "text/plain": [
       "<Figure size 432x288 with 1 Axes>"
      ]
     },
     "metadata": {
      "needs_background": "light"
     },
     "output_type": "display_data"
    }
   ],
   "source": [
    "# Use elbow method to find optimal number of clusters\n",
    "\n",
    "cs = []\n",
    "for i in range(1, 11):\n",
    "    kmeans = KMeans(n_clusters = i, init = 'k-means++', max_iter = 300, n_init = 10, random_state = 0)\n",
    "    kmeans.fit(data_scaled)\n",
    "    cs.append(kmeans.inertia_)\n",
    "plt.plot(range(1, 11), cs)\n",
    "plt.title('The Elbow Method')\n",
    "plt.xlabel('Number of clusters')\n",
    "plt.ylabel('CS')\n",
    "plt.show()"
   ]
  },
  {
   "cell_type": "code",
   "execution_count": 22,
   "metadata": {},
   "outputs": [],
   "source": [
    "\n",
    "kMeans = MiniBatchKMeans(n_clusters=3, random_state=0, batch_size=6)\n",
    "data_scaled[\"Cluster\"] = kMeans.fit_predict(data_scaled)"
   ]
  },
  {
   "cell_type": "code",
   "execution_count": 23,
   "metadata": {},
   "outputs": [],
   "source": [
    "labels_pred = data_scaled[\"Cluster\"]"
   ]
  },
  {
   "cell_type": "code",
   "execution_count": 24,
   "metadata": {},
   "outputs": [
    {
     "name": "stdout",
     "output_type": "stream",
     "text": [
      "Silhouetter Score is: 0.04111730528445635\n",
      "--------------------------------------------------------------\n",
      "DB Index (Davies-Bouldin index) is : 1.1060880724949638\n",
      "--------------------------------------------------------------\n"
     ]
    }
   ],
   "source": [
    "score = silhouette_score(data_scaled, kmeans.labels_, metric='euclidean')\n",
    "print(\"Silhouetter Score is:\", score)\n",
    "print(\"--------------------------------------------------------------\")\n",
    "\n",
    "db_index = davies_bouldin_score(data_scaled, data_scaled[\"Cluster\"] )\n",
    "print(\"DB Index (Davies-Bouldin index) is :\", db_index)\n",
    "print(\"--------------------------------------------------------------\")"
   ]
  },
  {
   "cell_type": "markdown",
   "metadata": {},
   "source": [
    "### Aglomorative Model"
   ]
  },
  {
   "cell_type": "code",
   "execution_count": 25,
   "metadata": {},
   "outputs": [],
   "source": [
    "from sklearn.cluster import AgglomerativeClustering\n",
    "clustering_model = AgglomerativeClustering(n_clusters=6, linkage=\"ward\")\n",
    "data_scaled[\"Cluster\"] = clustering_model.fit_predict(data_scaled)"
   ]
  },
  {
   "cell_type": "code",
   "execution_count": 26,
   "metadata": {},
   "outputs": [
    {
     "name": "stdout",
     "output_type": "stream",
     "text": [
      "Silhouetter Score is: 0.05247111135874542\n",
      "--------------------------------------------------------------\n",
      "DB Index (Davies-Bouldin index) is : 1.3888480016705078\n",
      "--------------------------------------------------------------\n"
     ]
    }
   ],
   "source": [
    "score = silhouette_score(data_scaled, kmeans.labels_, metric='euclidean')\n",
    "print(\"Silhouetter Score is:\", score)\n",
    "print(\"--------------------------------------------------------------\")\n",
    "\n",
    "db_index = davies_bouldin_score(data_scaled, data_scaled[\"Cluster\"] )\n",
    "print(\"DB Index (Davies-Bouldin index) is :\", db_index)\n",
    "print(\"--------------------------------------------------------------\")"
   ]
  },
  {
   "cell_type": "markdown",
   "metadata": {},
   "source": [
    "### DBSCAN"
   ]
  },
  {
   "cell_type": "code",
   "execution_count": 29,
   "metadata": {},
   "outputs": [],
   "source": [
    "from sklearn.cluster import DBSCAN\n",
    "epsilon = 2.0\n",
    "min_samples = 13\n",
    "\n",
    "labels = DBSCAN(eps=epsilon, min_samples=min_samples).fit_predict(data_scaled)"
   ]
  },
  {
   "cell_type": "code",
   "execution_count": 30,
   "metadata": {},
   "outputs": [
    {
     "name": "stdout",
     "output_type": "stream",
     "text": [
      "Silhouetter Score is: 0.15557269948002023\n",
      "--------------------------------------------------------------\n",
      "DB Index (Davies-Bouldin index) is : 1.3888480016705078\n",
      "--------------------------------------------------------------\n"
     ]
    }
   ],
   "source": [
    "score = silhouette_score(data_scaled, labels, metric='euclidean')\n",
    "print(\"Silhouetter Score is:\", score)\n",
    "print(\"--------------------------------------------------------------\")\n",
    "\n",
    "db_index = davies_bouldin_score(data_scaled, data_scaled[\"Cluster\"] )\n",
    "print(\"DB Index (Davies-Bouldin index) is :\", db_index)\n",
    "print(\"--------------------------------------------------------------\")"
   ]
  },
  {
   "cell_type": "markdown",
   "metadata": {},
   "source": [
    "### OPTICS"
   ]
  },
  {
   "cell_type": "code",
   "execution_count": 31,
   "metadata": {},
   "outputs": [],
   "source": [
    "from sklearn.cluster import OPTICS\n",
    "\n",
    "labels = OPTICS(min_samples=3).fit_predict(data_scaled)"
   ]
  },
  {
   "cell_type": "code",
   "execution_count": 32,
   "metadata": {},
   "outputs": [
    {
     "name": "stdout",
     "output_type": "stream",
     "text": [
      "Silhouetter Score is: -0.319489771260781\n",
      "--------------------------------------------------------------\n",
      "DB Index (Davies-Bouldin index) is : 1.3888480016705078\n",
      "--------------------------------------------------------------\n"
     ]
    }
   ],
   "source": [
    "score = silhouette_score(data_scaled, labels, metric='euclidean')\n",
    "print(\"Silhouetter Score is:\", score)\n",
    "print(\"--------------------------------------------------------------\")\n",
    "\n",
    "db_index = davies_bouldin_score(data_scaled, data_scaled[\"Cluster\"] )\n",
    "print(\"DB Index (Davies-Bouldin index) is :\", db_index)\n",
    "print(\"--------------------------------------------------------------\")"
   ]
  },
  {
   "cell_type": "markdown",
   "metadata": {},
   "source": [
    "### Mean Shift"
   ]
  },
  {
   "cell_type": "code",
   "execution_count": 33,
   "metadata": {},
   "outputs": [],
   "source": [
    "from sklearn.cluster import MeanShift\n",
    "\n",
    "labels = MeanShift().fit_predict(data_scaled)"
   ]
  },
  {
   "cell_type": "code",
   "execution_count": 34,
   "metadata": {},
   "outputs": [
    {
     "name": "stdout",
     "output_type": "stream",
     "text": [
      "Silhouetter Score is: 0.05247111135874542\n",
      "--------------------------------------------------------------\n",
      "DB Index (Davies-Bouldin index) is : 1.3888480016705078\n",
      "--------------------------------------------------------------\n"
     ]
    }
   ],
   "source": [
    "score = silhouette_score(data_scaled, kmeans.labels_, metric='euclidean')\n",
    "print(\"Silhouetter Score is:\", score)\n",
    "print(\"--------------------------------------------------------------\")\n",
    "\n",
    "db_index = davies_bouldin_score(data_scaled, data_scaled[\"Cluster\"] )\n",
    "print(\"DB Index (Davies-Bouldin index) is :\", db_index)\n",
    "print(\"--------------------------------------------------------------\")"
   ]
  }
 ],
 "metadata": {
  "kernelspec": {
   "display_name": "Python 3.9.7 64-bit",
   "language": "python",
   "name": "python3"
  },
  "language_info": {
   "codemirror_mode": {
    "name": "ipython",
    "version": 3
   },
   "file_extension": ".py",
   "mimetype": "text/x-python",
   "name": "python",
   "nbconvert_exporter": "python",
   "pygments_lexer": "ipython3",
   "version": "3.9.7"
  },
  "orig_nbformat": 4,
  "vscode": {
   "interpreter": {
    "hash": "95f57ecaf1e4684a97728584cbdcdcfb0a14de4fde6afb1e55592db96a99a5c0"
   }
  }
 },
 "nbformat": 4,
 "nbformat_minor": 2
}
